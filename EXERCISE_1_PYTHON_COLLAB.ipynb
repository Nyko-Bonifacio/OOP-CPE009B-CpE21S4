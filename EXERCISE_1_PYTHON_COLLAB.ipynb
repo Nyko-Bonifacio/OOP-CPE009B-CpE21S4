{
  "nbformat": 4,
  "nbformat_minor": 0,
  "metadata": {
    "colab": {
      "provenance": [],
      "authorship_tag": "ABX9TyOJz6NfOzUBZ3E0w9a0v8iO",
      "include_colab_link": true
    },
    "kernelspec": {
      "name": "python3",
      "display_name": "Python 3"
    },
    "language_info": {
      "name": "python"
    }
  },
  "cells": [
    {
      "cell_type": "markdown",
      "metadata": {
        "id": "view-in-github",
        "colab_type": "text"
      },
      "source": [
        "<a href=\"https://colab.research.google.com/github/Nyko-Bonifacio/OOP-CPE009B-CpE21S4/blob/main/EXERCISE_1_PYTHON_COLLAB.ipynb\" target=\"_parent\"><img src=\"https://colab.research.google.com/assets/colab-badge.svg\" alt=\"Open In Colab\"/></a>"
      ]
    },
    {
      "cell_type": "code",
      "execution_count": 36,
      "metadata": {
        "colab": {
          "base_uri": "https://localhost:8080/"
        },
        "id": "Ag8_fuTeFedV",
        "outputId": "47b3d0a8-daa3-4298-9b60-e0ced53492a3"
      },
      "outputs": [
        {
          "output_type": "stream",
          "name": "stdout",
          "text": [
            "My name is Nyko with an age of 20 and birthday of September 9, 2004\n",
            "Mark\n",
            "20\n",
            "April 7, 2004\n",
            "My name is Dr. Sayo with an age of 2 and birthday of December 2, 2002\n"
          ]
        }
      ],
      "source": [
        "class Person:\n",
        "  def __init__(self,name,age,birthday):\n",
        "    self.name= name\n",
        "    self.age= age\n",
        "    self.birthday= birthday\n",
        "\n",
        "  def person_attribute(self):\n",
        "    return f\"My name is {self.name} with an age of {self.age} and birthday of {self.birthday}\"\n",
        "class Teacher(Person):\n",
        "  pass\n",
        "class Student(Person):\n",
        "  pass\n",
        "\n",
        "person = Person(\"Nyko\", 20, \"September 9, 2004\")\n",
        "print(person.person_attribute())\n",
        "student = Student(\"Mark\", 20, \"April 7, 2004\")\n",
        "print(student.name)\n",
        "print(student.age)\n",
        "print(student.birthday)\n",
        "teacher= Teacher(\"Dr. Sayo\", 2,\"December 2, 2002\")\n",
        "print(teacher.person_attribute())"
      ]
    },
    {
      "cell_type": "markdown",
      "source": [
        "## Create a python program that has the following:\n",
        "1. Super class named as Shapes\n",
        "2. Subclasess: Rectangle, Square\n",
        "3. Methods: Perimeter(), Area()\n",
        "4. Object name: Rectangle, Square\n",
        "5. Inherit the attributes of superclass shapes self.side = side"
      ],
      "metadata": {
        "id": "q1CRzZe7VMKn"
      }
    },
    {
      "cell_type": "code",
      "source": [
        "class Shapes:\n",
        "  def __init__(self, length, width, side):\n",
        "    self.length = length\n",
        "    self.width = width\n",
        "    self.side = side\n",
        "\n",
        "class Rectangle(Shapes):\n",
        "  pass\n",
        "\n",
        "  def Perimeter(self):\n",
        "    return f\"The Perimeter of rectangle is {(self.length * self.width)*2}.\"\n",
        "  def Area(self):\n",
        "    return f\"The Area of rectangle is {self.length * self.width}\"\n",
        "\n",
        "class Square(Shapes):\n",
        "  pass\n",
        "\n",
        "  def Perimeter(self):\n",
        "    return f\"The Perimeter of square is {4*self.side}.\"\n",
        "  def Area(self):\n",
        "    return f\"The Area of square is {self.side * self.side}.\"\n",
        "\n",
        "rectangle = Rectangle(4, 5, 6)\n",
        "print(rectangle.Perimeter())\n",
        "print(rectangle.Area())\n",
        "square = Square(7, 8, 9)\n",
        "print(square.Perimeter())\n",
        "print(square.Area())\n"
      ],
      "metadata": {
        "colab": {
          "base_uri": "https://localhost:8080/"
        },
        "id": "8UdtlF7YVWku",
        "outputId": "f41622d1-3209-4677-f3e9-af5d03fe6ca8"
      },
      "execution_count": 42,
      "outputs": [
        {
          "output_type": "stream",
          "name": "stdout",
          "text": [
            "The Perimeter of rectangle is 40.\n",
            "The Area of rectangle is 20\n",
            "The Perimeter of square is 36.\n",
            "The Area of square is 81.\n"
          ]
        }
      ]
    }
  ]
}
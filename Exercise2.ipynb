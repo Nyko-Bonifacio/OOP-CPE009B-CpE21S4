{
  "nbformat": 4,
  "nbformat_minor": 0,
  "metadata": {
    "colab": {
      "provenance": [],
      "authorship_tag": "ABX9TyN+VAyjIp8yblMgEazF3k5W",
      "include_colab_link": true
    },
    "kernelspec": {
      "name": "python3",
      "display_name": "Python 3"
    },
    "language_info": {
      "name": "python"
    }
  },
  "cells": [
    {
      "cell_type": "markdown",
      "metadata": {
        "id": "view-in-github",
        "colab_type": "text"
      },
      "source": [
        "<a href=\"https://colab.research.google.com/github/Nyko-Bonifacio/OOP-CPE009B-CpE21S4/blob/main/Exercise2.ipynb\" target=\"_parent\"><img src=\"https://colab.research.google.com/assets/colab-badge.svg\" alt=\"Open In Colab\"/></a>"
      ]
    },
    {
      "cell_type": "code",
      "execution_count": 26,
      "metadata": {
        "colab": {
          "base_uri": "https://localhost:8080/"
        },
        "id": "deEAU9g4Wjje",
        "outputId": "f177ba32-6365-45cf-f752-d1cf09c68e66"
      },
      "outputs": [
        {
          "output_type": "stream",
          "name": "stdout",
          "text": [
            "The Value of a is: 4\n",
            "3\n"
          ]
        },
        {
          "output_type": "execute_result",
          "data": {
            "text/plain": [
              "7"
            ]
          },
          "metadata": {},
          "execution_count": 26
        }
      ],
      "source": [
        "# Example 1\n",
        "class foo:\n",
        "  def __init__(self,a,b):\n",
        "      self.a=a\n",
        "      self.b=b\n",
        "  def add (self):\n",
        "    return self.a+self.b\n",
        "foo_object=foo(4,3)\n",
        "print(\"The Value of a is:\", foo_object.a)\n",
        "print(foo_object.b)\n",
        "foo_object.add()"
      ]
    },
    {
      "cell_type": "code",
      "source": [
        "# Example 2\n",
        "#Complete the program by adding object name and\n",
        "#Print output variable that display the instance/behavior of every function\n",
        "#Apply encapsulation by typing _ single underscore for private variable\n",
        "class Counter:\n",
        "    def __init__(self):\n",
        "        self._current = 0\n",
        "\n",
        "    def increment(self):\n",
        "        self._current += 1\n",
        "\n",
        "    def value(self):\n",
        "        return self._current\n",
        "\n",
        "    def reset(self):\n",
        "        self._current = 0\n",
        "\n",
        "count = Counter()\n",
        "print(count._current)\n",
        "print(count.increment())\n",
        "print(count.value())\n",
        "print(count.reset())\n"
      ],
      "metadata": {
        "colab": {
          "base_uri": "https://localhost:8080/"
        },
        "id": "T8iCrdOIZmUf",
        "outputId": "3cfeb59b-73e9-4825-d1a7-d34e4dba1c49"
      },
      "execution_count": 25,
      "outputs": [
        {
          "output_type": "stream",
          "name": "stdout",
          "text": [
            "0\n",
            "None\n",
            "1\n",
            "None\n"
          ]
        }
      ]
    }
  ]
}
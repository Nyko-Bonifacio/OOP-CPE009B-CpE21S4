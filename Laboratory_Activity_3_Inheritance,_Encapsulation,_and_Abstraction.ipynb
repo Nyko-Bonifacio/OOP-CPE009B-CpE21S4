{
  "nbformat": 4,
  "nbformat_minor": 0,
  "metadata": {
    "colab": {
      "provenance": [],
      "authorship_tag": "ABX9TyOjMcEscTIRfEIMVLauQxq3",
      "include_colab_link": true
    },
    "kernelspec": {
      "name": "python3",
      "display_name": "Python 3"
    },
    "language_info": {
      "name": "python"
    }
  },
  "cells": [
    {
      "cell_type": "markdown",
      "metadata": {
        "id": "view-in-github",
        "colab_type": "text"
      },
      "source": [
        "<a href=\"https://colab.research.google.com/github/Nyko-Bonifacio/OOP-CPE009B-CpE21S4/blob/main/Laboratory_Activity_3_Inheritance%2C_Encapsulation%2C_and_Abstraction.ipynb\" target=\"_parent\"><img src=\"https://colab.research.google.com/assets/colab-badge.svg\" alt=\"Open In Colab\"/></a>"
      ]
    },
    {
      "cell_type": "markdown",
      "source": [
        "Create a program in python that satisfies the following:\n",
        "\n",
        "* Inheritance, Encapsulation, and Abstraction concept with ADT list\n",
        "* Class(Employee: emp_id. emp_name, emp_address, Fulltime: allowance, rate, PartTime: rate)\n",
        "* Class(Salary: salary_id, Salary, cut_off_date, days_of_work)"
      ],
      "metadata": {
        "id": "QneHGJWWhpZy"
      }
    },
    {
      "cell_type": "code",
      "execution_count": 34,
      "metadata": {
        "colab": {
          "base_uri": "https://localhost:8080/"
        },
        "id": "gxfVUCvuhlPT",
        "outputId": "68bb83f3-2b0d-4dfe-bd9b-1d1e2b833cf4"
      },
      "outputs": [
        {
          "output_type": "stream",
          "name": "stdout",
          "text": [
            "ID: 1234, Name: Prof A, Address: TIP-QC\n",
            "Fulltime Salary: 14000\n",
            "\n",
            "ID: 5678, Name: Prof B, Address: TIP-M\n",
            "PartTime Salary: 400\n",
            "\n",
            "Salary ID: ASDF, Salary: 2000, Cut-off Date: 09-23-2024, Days of Work: 5\n"
          ]
        }
      ],
      "source": [
        "class Employee:\n",
        "\n",
        "  def __init__ (self, _emp_id, _emp_name, _emp_address):\n",
        "    self._emp_id = _emp_id\n",
        "    self._emp_name = _emp_name\n",
        "    self._emp_address = _emp_address\n",
        "\n",
        "  def information(self):\n",
        "    return f\"ID: {self._emp_id}, Name: {self._emp_name}, Address: {self._emp_address}\"\n",
        "\n",
        "class FullTime(Employee):\n",
        "    def __init__(self, _emp_id, _emp_name, _emp_address, allowance, rate):\n",
        "        super().__init__(_emp_id, _emp_name, _emp_address)\n",
        "        self.allowance = allowance\n",
        "        self.rate = rate\n",
        "\n",
        "    def calculateSalary(self):\n",
        "        return self.allowance + self.rate\n",
        "\n",
        "class PartTime(Employee):\n",
        "    def __init__(self, _emp_id, _emp_name, _emp_address, rate):\n",
        "        super().__init__(_emp_id, _emp_name, _emp_address)\n",
        "        self.rate = rate\n",
        "\n",
        "    def calculateSalary(self, hours_worked):\n",
        "        return self.rate * hours_worked\n",
        "\n",
        "class Salary:\n",
        "    def __init__(self, salary_id, salary, cut_off_date, days_of_work):\n",
        "        self.salary_id = salary_id\n",
        "        self.salary = salary\n",
        "        self.cut_off_date = cut_off_date\n",
        "        self.days_of_work = days_of_work\n",
        "\n",
        "    def display_salary(self):\n",
        "        return f\"Salary ID: {self.salary_id}, Salary: {self.salary}, Cut-off Date: {self.cut_off_date}, Days of Work: {self.days_of_work}\"\n",
        "\n",
        "fulltime_emp = FullTime(\"1234\", \"Prof A\", \"TIP-QC\", 5000, 9000)\n",
        "parttime_emp = PartTime(\"5678\", \"Prof B\", \"TIP-M\", 50)\n",
        "print(fulltime_emp.information())\n",
        "print(\"Fulltime Salary:\", fulltime_emp.calculateSalary())\n",
        "\n",
        "print()\n",
        "print(parttime_emp.information())\n",
        "print(\"PartTime Salary:\", parttime_emp.calculateSalary(hours_worked=8))\n",
        "\n",
        "print()\n",
        "salary_record = Salary(\"ASDF\", 2000, \"09-23-2024\", 5)\n",
        "print(salary_record.display_salary())"
      ]
    }
  ]
}